{
 "cells": [
  {
   "cell_type": "code",
   "execution_count": null,
   "id": "9461e936",
   "metadata": {},
   "outputs": [],
   "source": [
    "from sklearn.model_selection import cross_val_score\n",
    "from sklearn.metrics import accuracy_score, precision_score, recall_score, f1_score\n",
    "from sklearn.pipeline import Pipeline\n",
    "\n",
    "def fit_and_score(models, x_train, x_test, y_train, y_test, scoring='accuracy', cv=5):\n",
    "    \"\"\"\n",
    "    Fits and evaluates given machine learning models using k-fold cross-validation.\n",
    "    \n",
    "    models: a dictionary of different scikit-learn machine learning models\n",
    "    x_train: training data (no labels)\n",
    "    x_test: test data (no labels)\n",
    "    y_train: training labels\n",
    "    y_test: test labels\n",
    "    scoring: the scoring metric to use for evaluation (default is 'accuracy')\n",
    "    cv: number of cross-validation folds (default is 5)\n",
    "    \"\"\"\n",
    "    # Set random seed\n",
    "    np.random.seed(42)\n",
    "    \n",
    "    # Make a dictionary to keep model scores\n",
    "    model_scores = {}\n",
    "    \n",
    "    # Loop through models\n",
    "    for name, model in models.items():\n",
    "        # Create a pipeline if preprocessing steps are needed\n",
    "        pipeline = Pipeline(steps=[('model', model)])\n",
    "        \n",
    "        # Perform cross-validation\n",
    "        scores = cross_val_score(pipeline, x_train, y_train, cv=cv, scoring=scoring)\n",
    "        \n",
    "        # Fit the model to the entire training data\n",
    "        pipeline.fit(x_train, y_train)\n",
    "        \n",
    "        # Evaluate the model on the test set\n",
    "        test_score = pipeline.score(x_test, y_test)\n",
    "        \n",
    "        # Store the cross-validation scores and test score\n",
    "        model_scores[name] = {\n",
    "            'cross_val_scores': scores,\n",
    "            'test_score': test_score,\n",
    "            'mean_cross_val_score': np.mean(scores),\n",
    "            'std_cross_val_score': np.std(scores)\n",
    "        }\n",
    "        \n",
    "    return model_scores\n"
   ]
  }
 ],
 "metadata": {
  "kernelspec": {
   "display_name": "Python 3 (ipykernel)",
   "language": "python",
   "name": "python3"
  },
  "language_info": {
   "codemirror_mode": {
    "name": "ipython",
    "version": 3
   },
   "file_extension": ".py",
   "mimetype": "text/x-python",
   "name": "python",
   "nbconvert_exporter": "python",
   "pygments_lexer": "ipython3",
   "version": "3.11.5"
  }
 },
 "nbformat": 4,
 "nbformat_minor": 5
}
