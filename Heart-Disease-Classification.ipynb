{
 "cells": [
  {
   "cell_type": "markdown",
   "id": "133e725d",
   "metadata": {},
   "source": [
    "# Project on Predicting Heart Disease Patient\n",
    "This notebook demonstrate steps and processes I go through to create fully functional machine learning model that predict heart disease based on given features using various python based machine learning libraries.\n",
    "\n",
    "Steps I take to solve this problem:\n",
    "1. Problem definition\n",
    "2. Data\n",
    "3. Evaluation(what define success for this project)\n",
    "4. Features\n",
    "5. Modelling\n",
    "6. Experimentation\n",
    "\n",
    "## 1.Problem Definition\n",
    "\n",
    "In a statement,\n",
    "> Given clinical parameters about the patient can we predict whether or not they have heart disease ?\n",
    "## 2. Data\n",
    "\n",
    "> data came from kaggle https://www.kaggle.com/datasets/johnsmith88/heart-disease-dataset/\n",
    "\n",
    "## 3. Evaluation \n",
    "\n",
    ">If we can reach 90% accuracy at predicting the outcome during the proof of concept, We'll pursue the project.\n",
    "\n",
    "## 4. Features\n",
    "\n",
    "This is where you'll get different information about each of the features in your data.\n",
    "\n",
    "** Create data dictionary**\n",
    "* age\n",
    "* sex (1= male; 0 = female)\n",
    "* chest pain type (4 values)\n",
    "* resting blood pressure (in mm Hg on admission to the hospital)\n",
    "* serum cholestoral in mg/dl\n",
    "* fasting blood sugar > 120 mg/dl (fbs (1= true; 0 = false)\n",
    "* resting electrocardiographic results (values 0,1,2)\n",
    "* maximum heart rate achieved\n",
    "* exercise induced angina (1 = yes; 0 =no)\n",
    "* oldpeak = ST depression induced by exercise relative to rest\n",
    "* the slope of the peak exercise ST segment\n",
    "* number of major vessels (0-3) colored by flourosopy\n",
    "* thal3: 0 = normal; 6 = fixed defect; 7 = reversable defect\n",
    "* target 1 or 0\n"
   ]
  },
  {
   "cell_type": "markdown",
   "id": "d5d92069",
   "metadata": {},
   "source": [
    "## Preparing the tools \n",
    "we're going to use pandas, Matplotlib and Numpy for data analysis and manipulation.\n"
   ]
  },
  {
   "cell_type": "code",
   "execution_count": 2,
   "id": "e18cb758",
   "metadata": {},
   "outputs": [],
   "source": [
    "# import all the tools we need\n",
    "\n",
    "# Regular EDA (exploratory data an) and plotting libraries \n",
    "import numpy as np \n",
    "import pandas as pd\n",
    "import matplotlib.pyplot as plt \n",
    "import seaborn as sns\n",
    "\n",
    "%matplotlib inline \n",
    "#we want our plots to appear inside the notebook\n",
    "\n",
    "# Model from Scikit-Learn\n",
    "\n",
    "from sklearn.linear_model import LinearRegression\n",
    "from sklearn.neighbors import KNeighborsClassifier\n",
    "from sklearn.ensemble import RandomForestClassifier\n",
    "\n",
    "# Model Evaluations \n",
    "\n",
    "from sklearn.model_selection import train_test_split,cross_val_score\n",
    "from sklearn.model_selection import RandomizedSearchCV,GridSearchCV\n",
    "from sklearn.metrics import confusion_matrix,classification_report\n",
    "from sklearn.metrics import precision_score,recall_score,f1_score\n",
    "from sklearn.metrics import roc_curve"
   ]
  },
  {
   "cell_type": "markdown",
   "id": "7fc0fcd5",
   "metadata": {},
   "source": [
    "# Load data"
   ]
  },
  {
   "cell_type": "code",
   "execution_count": 3,
   "id": "ac6d0007",
   "metadata": {},
   "outputs": [
    {
     "data": {
      "text/plain": [
       "(303, 14)"
      ]
     },
     "execution_count": 3,
     "metadata": {},
     "output_type": "execute_result"
    }
   ],
   "source": [
    "df = pd.read_csv(\"heart-disease.csv\")\n",
    "df.shape"
   ]
  },
  {
   "cell_type": "markdown",
   "id": "41fd1efc",
   "metadata": {},
   "source": [
    "## Data Exploration (exploratory data analysis or EDA)\n",
    "\n",
    "A goal is to know and understand the data and become a subject matter expert on the data.\n",
    "\n",
    "1. What question(s) are you trying to solve ?\n",
    "2. What kind of data do we do have "
   ]
  },
  {
   "cell_type": "code",
   "execution_count": null,
   "id": "9f9b5a8e",
   "metadata": {},
   "outputs": [],
   "source": []
  }
 ],
 "metadata": {
  "kernelspec": {
   "display_name": "Python 3 (ipykernel)",
   "language": "python",
   "name": "python3"
  },
  "language_info": {
   "codemirror_mode": {
    "name": "ipython",
    "version": 3
   },
   "file_extension": ".py",
   "mimetype": "text/x-python",
   "name": "python",
   "nbconvert_exporter": "python",
   "pygments_lexer": "ipython3",
   "version": "3.11.5"
  }
 },
 "nbformat": 4,
 "nbformat_minor": 5
}
